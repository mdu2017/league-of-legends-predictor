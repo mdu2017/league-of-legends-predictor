{
  "nbformat": 4,
  "nbformat_minor": 0,
  "metadata": {
    "colab": {
      "name": "Semester Project.ipynb",
      "provenance": [],
      "collapsed_sections": []
    },
    "kernelspec": {
      "name": "python3",
      "display_name": "Python 3"
    }
  },
  "cells": [
    {
      "cell_type": "code",
      "metadata": {
        "id": "40Ey0TMzYVTo",
        "outputId": "e88ebf6e-b93d-4bf0-e1f8-0352ab60cb02",
        "colab": {
          "base_uri": "https://localhost:8080/"
        }
      },
      "source": [
        "import tensorflow as tf\n",
        "import keras\n",
        "import pandas as pd\n",
        "import numpy as np\n",
        "import matplotlib.pyplot as plt\n",
        "from sklearn.preprocessing import StandardScaler\n",
        "\n",
        "# Load in dataset\n",
        "df = pd.read_csv('/content/drive/My Drive/differences.csv', sep=',')\n",
        "pd.set_option('display.max_columns', None)\n",
        "\n",
        "x = df.iloc[:, 2:len(df.columns)]  # Get x values of the data\n",
        "y = df[['blue_win']] # Get target value (blue win)\\\\\n",
        "\n",
        "# Split into training and testing sets\n",
        "\n",
        "# Data Preprocessing\n",
        "\n",
        "\n"
      ],
      "execution_count": 2,
      "outputs": [
        {
          "output_type": "stream",
          "text": [
            "       MinionDiff  JgMinionDiff  LevelDiff  KillDiff  HeraldDiff  DragonDiff  \\\n",
            "0               3             9       -0.6        -6           1          -2   \n",
            "1              -4           -56       -0.4         1           0          -2   \n",
            "2              53             8        0.0         6           1           2   \n",
            "3            -133           -47       -1.2        -9          -1          -2   \n",
            "4              42            50        1.0         8           1           2   \n",
            "...           ...           ...        ...       ...         ...         ...   \n",
            "48646           7           -16       -0.6        -7           0           1   \n",
            "48647          -4             4       -0.4         2          -1           1   \n",
            "48648         -36            -4       -0.6        -9          -1          -2   \n",
            "48649          19            21        0.6         2           0           2   \n",
            "48650         -33             0       -0.4        -6          -1           1   \n",
            "\n",
            "       TowersDiff  \n",
            "0               0  \n",
            "1               0  \n",
            "2               4  \n",
            "3              -3  \n",
            "4               2  \n",
            "...           ...  \n",
            "48646          -2  \n",
            "48647           1  \n",
            "48648          -1  \n",
            "48649           0  \n",
            "48650          -2  \n",
            "\n",
            "[48651 rows x 7 columns]\n",
            "       blue_win\n",
            "0             0\n",
            "1             0\n",
            "2             1\n",
            "3             0\n",
            "4             1\n",
            "...         ...\n",
            "48646         0\n",
            "48647         1\n",
            "48648         0\n",
            "48649         1\n",
            "48650         0\n",
            "\n",
            "[48651 rows x 1 columns]\n"
          ],
          "name": "stdout"
        }
      ]
    }
  ]
}